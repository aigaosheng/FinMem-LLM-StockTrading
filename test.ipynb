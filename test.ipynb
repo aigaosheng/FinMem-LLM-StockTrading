{
 "cells": [
  {
   "cell_type": "code",
   "execution_count": 5,
   "id": "d0222c52-0c0d-4eec-a815-e4ad5e5923e2",
   "metadata": {},
   "outputs": [
    {
     "data": {
      "text/html": [
       "<div>\n",
       "<style scoped>\n",
       "    .dataframe tbody tr th:only-of-type {\n",
       "        vertical-align: middle;\n",
       "    }\n",
       "\n",
       "    .dataframe tbody tr th {\n",
       "        vertical-align: top;\n",
       "    }\n",
       "\n",
       "    .dataframe thead th {\n",
       "        text-align: right;\n",
       "    }\n",
       "</style>\n",
       "<table border=\"1\" class=\"dataframe\">\n",
       "  <thead>\n",
       "    <tr style=\"text-align: right;\">\n",
       "      <th></th>\n",
       "      <th>date</th>\n",
       "      <th>symbols</th>\n",
       "      <th>headline</th>\n",
       "      <th>body</th>\n",
       "    </tr>\n",
       "  </thead>\n",
       "  <tbody>\n",
       "    <tr>\n",
       "      <th>0</th>\n",
       "      <td>2016-01-13</td>\n",
       "      <td>AMZN</td>\n",
       "      <td>Obama veers left</td>\n",
       "      <td>On Day 13, a video message and a meeting with ...</td>\n",
       "    </tr>\n",
       "    <tr>\n",
       "      <th>1</th>\n",
       "      <td>2016-01-13</td>\n",
       "      <td>AMZN</td>\n",
       "      <td>Federal Election Commission (“FEC”) Is Another...</td>\n",
       "      <td>VA Backlog Means Thousands Of Veterans Owed Mo...</td>\n",
       "    </tr>\n",
       "    <tr>\n",
       "      <th>2</th>\n",
       "      <td>2016-01-13</td>\n",
       "      <td>AMZN</td>\n",
       "      <td>Twenty Years of a Dictatorial Democracy     : ...</td>\n",
       "      <td>Twenty Years of a Dictatorial Democracy By Ja...</td>\n",
       "    </tr>\n",
       "  </tbody>\n",
       "</table>\n",
       "</div>"
      ],
      "text/plain": [
       "         date symbols                                           headline  \\\n",
       "0  2016-01-13    AMZN                                   Obama veers left   \n",
       "1  2016-01-13    AMZN  Federal Election Commission (“FEC”) Is Another...   \n",
       "2  2016-01-13    AMZN  Twenty Years of a Dictatorial Democracy     : ...   \n",
       "\n",
       "                                                body  \n",
       "0  On Day 13, a video message and a meeting with ...  \n",
       "1  VA Backlog Means Thousands Of Veterans Owed Mo...  \n",
       "2   Twenty Years of a Dictatorial Democracy By Ja...  "
      ]
     },
     "execution_count": 5,
     "metadata": {},
     "output_type": "execute_result"
    }
   ],
   "source": [
    "import pandas as pd\n",
    "from pathlib import Path\n",
    "\n",
    "root_pth = Path(\"/home/gs/work/FinMem-LLM-StockTrading/Fake-Sample-Data\")\n",
    "news_file = root_pth/\"example_input\"/\"Fake-News-Data-for-Each-Stock/AMZN_fake.csv\"\n",
    "news = pd.read_csv(news_file, sep = \",\")\n",
    "news.head(3)\n"
   ]
  },
  {
   "cell_type": "code",
   "execution_count": 4,
   "id": "83a8e78a-5b63-4ceb-a49f-93ba75461697",
   "metadata": {},
   "outputs": [
    {
     "data": {
      "text/html": [
       "<div>\n",
       "<style scoped>\n",
       "    .dataframe tbody tr th:only-of-type {\n",
       "        vertical-align: middle;\n",
       "    }\n",
       "\n",
       "    .dataframe tbody tr th {\n",
       "        vertical-align: top;\n",
       "    }\n",
       "\n",
       "    .dataframe thead th {\n",
       "        text-align: right;\n",
       "    }\n",
       "</style>\n",
       "<table border=\"1\" class=\"dataframe\">\n",
       "  <thead>\n",
       "    <tr style=\"text-align: right;\">\n",
       "      <th></th>\n",
       "      <th>document_url</th>\n",
       "      <th>content</th>\n",
       "      <th>ticker</th>\n",
       "      <th>cik</th>\n",
       "      <th>utc_timestamp</th>\n",
       "      <th>est_timestamp</th>\n",
       "      <th>type</th>\n",
       "    </tr>\n",
       "  </thead>\n",
       "  <tbody>\n",
       "    <tr>\n",
       "      <th>0</th>\n",
       "      <td>&lt;url&gt;</td>\n",
       "      <td>10Q report</td>\n",
       "      <td>TSLA</td>\n",
       "      <td>cik</td>\n",
       "      <td>2016-01-30 00:00:00+00:00</td>\n",
       "      <td>2016-01-29 19:00:00-05:00</td>\n",
       "      <td>10-Q</td>\n",
       "    </tr>\n",
       "    <tr>\n",
       "      <th>1</th>\n",
       "      <td>&lt;url&gt;</td>\n",
       "      <td>10Q report</td>\n",
       "      <td>TSLA</td>\n",
       "      <td>cik</td>\n",
       "      <td>2016-02-23 00:00:00+00:00</td>\n",
       "      <td>2016-02-22 19:00:00-05:00</td>\n",
       "      <td>10-Q</td>\n",
       "    </tr>\n",
       "    <tr>\n",
       "      <th>2</th>\n",
       "      <td>&lt;url&gt;</td>\n",
       "      <td>10Q report</td>\n",
       "      <td>COIN</td>\n",
       "      <td>cik</td>\n",
       "      <td>2016-02-25 00:00:00+00:00</td>\n",
       "      <td>2016-02-24 19:00:00-05:00</td>\n",
       "      <td>10-Q</td>\n",
       "    </tr>\n",
       "  </tbody>\n",
       "</table>\n",
       "</div>"
      ],
      "text/plain": [
       "  document_url     content ticker  cik             utc_timestamp  \\\n",
       "0        <url>  10Q report   TSLA  cik 2016-01-30 00:00:00+00:00   \n",
       "1        <url>  10Q report   TSLA  cik 2016-02-23 00:00:00+00:00   \n",
       "2        <url>  10Q report   COIN  cik 2016-02-25 00:00:00+00:00   \n",
       "\n",
       "              est_timestamp  type  \n",
       "0 2016-01-29 19:00:00-05:00  10-Q  \n",
       "1 2016-02-22 19:00:00-05:00  10-Q  \n",
       "2 2016-02-24 19:00:00-05:00  10-Q  "
      ]
     },
     "execution_count": 4,
     "metadata": {},
     "output_type": "execute_result"
    }
   ],
   "source": [
    "#SEC\n",
    "filing_file = root_pth/\"example_input\"/\"filing_data.parquet\"\n",
    "filing = pd.read_parquet(filing_file)\n",
    "filing.head(3)\n"
   ]
  },
  {
   "cell_type": "code",
   "execution_count": 11,
   "id": "4532b33a-b92d-49a0-b42c-f95f1229420c",
   "metadata": {},
   "outputs": [],
   "source": [
    "#\n",
    "import pickle\n",
    "data_name = [\"env_data\", \"filing_k\", \"filing_q\", \"news_fake\", \"price\"]\n",
    "i_data = []\n",
    "for nm in data_name:\n",
    "    filing_file = root_pth/\"example_output\"/f\"{nm}.pkl\"\n",
    "    with open(filing_file, \"rb\") as fp:\n",
    "        filing_q = pickle.load(fp)\n",
    "        i_data.append(filing_q)\n",
    "# filing_q"
   ]
  },
  {
   "cell_type": "code",
   "execution_count": 39,
   "id": "85d3bdad-6fbc-4751-b1a7-232af44df1f7",
   "metadata": {},
   "outputs": [],
   "source": [
    "input_data = pd.DataFrame.from_dict(i_data[4], orient = \"index\")\n",
    "input_data[\"filing_k\"] = [{\"TSLA\": \"\"}] * input_data.shape[0] \n",
    "input_data[\"filing_q\"] = [{\"TSLA\": \"\"}] * input_data.shape[0]\n",
    "input_data[\"news\"] = [{\"TSLA\": \"\"}] * input_data.shape[0] \n",
    "\n",
    "finmem_fmt_data = \"/home/gs/work/FinMem-LLM-StockTrading/data/03_model_input/tsla.pkl\"\n",
    "with open(finmem_fmt_data, \"wb\") as fp:\n",
    "    pickle.dump(input_data.to_dict(orient = \"index\"), fp)\n"
   ]
  }
 ],
 "metadata": {
  "kernelspec": {
   "display_name": "Python 3 (ipykernel)",
   "language": "python",
   "name": "python3"
  },
  "language_info": {
   "codemirror_mode": {
    "name": "ipython",
    "version": 3
   },
   "file_extension": ".py",
   "mimetype": "text/x-python",
   "name": "python",
   "nbconvert_exporter": "python",
   "pygments_lexer": "ipython3",
   "version": "3.10.14"
  }
 },
 "nbformat": 4,
 "nbformat_minor": 5
}
